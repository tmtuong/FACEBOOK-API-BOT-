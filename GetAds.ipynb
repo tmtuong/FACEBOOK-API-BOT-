{
 "cells": [
  {
   "cell_type": "code",
   "execution_count": 1,
   "metadata": {},
   "outputs": [],
   "source": [
    "import time\n",
    "from datetime import datetime\n",
    "import pygsheets\n",
    "import warnings\n",
    "import pandas as pd\n",
    "warnings.filterwarnings(\"ignore\")\n",
    "import nbformat"
   ]
  },
  {
   "cell_type": "code",
   "execution_count": null,
   "metadata": {},
   "outputs": [],
   "source": [
    "pip install facebook_business"
   ]
  },
  {
   "cell_type": "code",
   "execution_count": 3,
   "metadata": {},
   "outputs": [
    {
     "name": "stdout",
     "output_type": "stream",
     "text": [
      "Khởi chạy FB Ads backup - 12:53\n"
     ]
    },
    {
     "ename": "ModuleNotFoundError",
     "evalue": "No module named 'facebook_business'",
     "output_type": "error",
     "traceback": [
      "\u001b[1;31m---------------------------------------------------------------------------\u001b[0m",
      "\u001b[1;31mModuleNotFoundError\u001b[0m                       Traceback (most recent call last)",
      "File \u001b[1;32m~\\AppData\\Local\\Temp\\ipykernel_5420\\2166493441.py:2\u001b[0m, in \u001b[0;36m<cell line: 2>\u001b[1;34m()\u001b[0m\n\u001b[0;32m      1\u001b[0m \u001b[39m#Dùng để get dữ liệu từ Facebook API\u001b[39;00m\n\u001b[1;32m----> 2\u001b[0m \u001b[39mfrom\u001b[39;00m \u001b[39mfacebook_business\u001b[39;00m\u001b[39m.\u001b[39;00m\u001b[39mapi\u001b[39;00m \u001b[39mimport\u001b[39;00m FacebookAdsApi\n\u001b[0;32m      3\u001b[0m \u001b[39mfrom\u001b[39;00m \u001b[39mfacebook_business\u001b[39;00m\u001b[39m.\u001b[39;00m\u001b[39madobjects\u001b[39;00m\u001b[39m.\u001b[39;00m\u001b[39madaccount\u001b[39;00m \u001b[39mimport\u001b[39;00m AdAccount\n\u001b[0;32m      4\u001b[0m \u001b[39mfrom\u001b[39;00m \u001b[39mfacebook_business\u001b[39;00m\u001b[39m.\u001b[39;00m\u001b[39madobjects\u001b[39;00m\u001b[39m.\u001b[39;00m\u001b[39madcreative\u001b[39;00m \u001b[39mimport\u001b[39;00m AdCreative\n",
      "\u001b[1;31mModuleNotFoundError\u001b[0m: No module named 'facebook_business'"
     ]
    },
    {
     "name": "stdout",
     "output_type": "stream",
     "text": [
      "Lỗi - 1 tiếng sau chạy lại\n"
     ]
    }
   ],
   "source": [
    "while True:\n",
    "    #Mở gg sheet\n",
    "    client = pygsheets.authorize(service_file = r'C:\\Users\\Tường\\Documents\\FACEBOOK-API-BOT--main\\maido-agency-e7cc6f08cb95.json')\n",
    "\n",
    "    sh = client.open('MAIDO - DB MAGIC DATA')\n",
    "    wks = sh.worksheet_by_title('Data Raw')\n",
    "\n",
    "    #Lấy dữ liệu từ CampaignPeriod và lưu thành DataFrame\n",
    "    df = wks.get_as_df()\n",
    "\n",
    "    #Loại bỏ những dòng null\n",
    "    drop_rows = df[df['date']==''].index\n",
    "    df.drop(drop_rows,axis = 0,inplace = True)\n",
    "\n",
    "    now = datetime.today()\n",
    "    today_date = now.strftime('%Y-%m-%d')\n",
    "    now_non_timestamp = datetime.strptime(today_date,'%Y-%m-%d')\n",
    "\n",
    "    if len(df) == 0:\n",
    "        backup = True\n",
    "    else:\n",
    "        date_max = pd.to_datetime(df['date']).max()\n",
    "        backup = date_max < now_non_timestamp\n",
    "\n",
    "    error_count = 0\n",
    "\n",
    "    if backup == True:\n",
    "        try:\n",
    "            print('Khởi chạy FB Ads backup -',now.strftime('%H:%M'))\n",
    "            %run FB_Ads_API_backup.ipynb\n",
    "            print('')\n",
    "        except:\n",
    "            print('Lỗi - 1 tiếng sau chạy lại')\n",
    "            error_count += 1\n",
    "            if error_count == 2:\n",
    "                print('Kiểm ra lại code')\n",
    "                break\n",
    "            else:\n",
    "                time.sleep(3600)\n",
    "\n",
    "        try:\n",
    "            print('Khởi chạy FB Ads daily -',now.strftime('%H:%M'))\n",
    "            %run FB_Ads_API_daily.ipynb\n",
    "            print('')\n",
    "        except:\n",
    "            print('Lỗi - 1 tiếng sau chạy lại')\n",
    "            error_count += 1\n",
    "            if error_count == 2:\n",
    "                print('Kiểm ra lại code')\n",
    "                break\n",
    "            else:\n",
    "                time.sleep(3600)\n"
   ]
  }
 ],
 "metadata": {
  "kernelspec": {
   "display_name": "Python 3",
   "language": "python",
   "name": "python3"
  },
  "language_info": {
   "codemirror_mode": {
    "name": "ipython",
    "version": 3
   },
   "file_extension": ".py",
   "mimetype": "text/x-python",
   "name": "python",
   "nbconvert_exporter": "python",
   "pygments_lexer": "ipython3",
   "version": "3.9.12"
  },
  "orig_nbformat": 4,
  "vscode": {
   "interpreter": {
    "hash": "ad2bdc8ecc057115af97d19610ffacc2b4e99fae6737bb82f5d7fb13d2f2c186"
   }
  }
 },
 "nbformat": 4,
 "nbformat_minor": 2
}

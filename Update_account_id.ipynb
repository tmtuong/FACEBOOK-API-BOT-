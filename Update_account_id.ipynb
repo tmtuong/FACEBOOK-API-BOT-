{
  "cells": [
    {
      "cell_type": "code",
      "execution_count": 1,
      "metadata": {
        "id": "Gjcvx6WNC6VU"
      },
      "outputs": [],
      "source": [
        "import requests\n",
        "import pandas as pd\n",
        "import pygsheets"
      ]
    },
    {
      "cell_type": "code",
      "execution_count": 2,
      "metadata": {
        "id": "7LHtr1PVEosY"
      },
      "outputs": [],
      "source": [
        "#Mở gg sheet\n",
        "client = pygsheets.authorize(service_file = '/Users/genkin/Downloads/MAIDO BOT/maido-agency-e7cc6f08cb95.json')\n",
        "\n",
        "sh = client.open('MAIDO - DB MAGIC DATA')\n",
        "#sh = client.open('MAIDO - DB MAGIC DATA')\n",
        "wks = sh.worksheet_by_title('FB Accounts')\n",
        "\n",
        "#Lấy dữ liệu từ CampaignPeriod và lưu thành DataFrame\n",
        "df = wks.get_as_df()\n",
        "\n",
        "#Loại bỏ những dòng có access_token là null\n",
        "drop_rows = df[df['access_token']==''].index\n",
        "df.drop(drop_rows,axis = 0,inplace = True)"
      ]
    },
    {
      "cell_type": "code",
      "execution_count": 3,
      "metadata": {
        "id": "ESoIJwegC8cE"
      },
      "outputs": [],
      "source": [
        "def get_adaccount_id(access_token):\n",
        "  \n",
        "  #Tạo list rỗng để append các giá trị \n",
        "  id_lst = []\n",
        "  name_lst = []\n",
        "  access_token_lst = []\n",
        "\n",
        "  #Gọi query\n",
        "  query = 'https://graph.facebook.com/v15.0/me/?fields=adaccounts{name,id}&access_token={access_token}'\n",
        "  query = query.replace('{access_token}',access_token)\n",
        "  r = requests.get(query).json()\n",
        "  accounts = r['adaccounts']['data']\n",
        "\n",
        "  #Lặp qua các kết quả có được từ query để lưu giá trị\n",
        "  for account in accounts:\n",
        "    id_lst.append(account['id'])\n",
        "    name_lst.append(account['name'])\n",
        "    access_token_lst.append(access_token)\n",
        "\n",
        "    print(\"AdAccount:\",account['name'])\n",
        "\n",
        "  #Lưu lại thành DataFrame và trả về\n",
        "  df = pd.DataFrame({'account_id':id_lst,'account_name':name_lst,'access_token':access_token},columns = ['account_id','account_name','access_token'])\n",
        "  return df"
      ]
    },
    {
      "cell_type": "code",
      "execution_count": 4,
      "metadata": {
        "colab": {
          "base_uri": "https://localhost:8080/"
        },
        "id": "ELWlpmz-EzfE",
        "outputId": "ee330530-4c89-481f-d3b2-8498e150ced8"
      },
      "outputs": [
        {
          "name": "stdout",
          "output_type": "stream",
          "text": [
            "FB Accounts: HT\n",
            "AdAccount: Maido Agency Co., LTD\n",
            "AdAccount: Trang Ho\n",
            "AdAccount: Công Ty TNHH XNK Á Âu\n",
            "----------------\n",
            "\n",
            "FB Accounts: KN\n",
            "AdAccount: Maido Agency\n",
            "AdAccount: The Ruong\n",
            "AdAccount: Khoi Nguyen\n",
            "----------------\n",
            "\n",
            "FB Accounts: TN\n",
            "AdAccount: Tan Nguyen\n",
            "AdAccount: Công Ty TNHH Quảng Cáo Maido\n",
            "----------------\n",
            "\n",
            "FB Accounts: VD\n",
            "AdAccount: MDADS5\n",
            "AdAccount: Viet Dang\n",
            "----------------\n",
            "\n"
          ]
        }
      ],
      "source": [
        "output = pd.DataFrame(columns = ['account_id','account_name','access_token'])\n",
        "\n",
        "for i in range(0,len(df)):\n",
        "  print('FB Accounts:',df.iloc[i]['name'])\n",
        "\n",
        "  #Gọi hàm get_adaccount_id để lấy ra các thông tin adaccount cần cho việc lấy tin FB Ads\n",
        "  access_token = df.iloc[i]['access_token']\n",
        "  data = get_adaccount_id(access_token)\n",
        "  data['app_id'] = df.iloc[i]['app_id']\n",
        "  data['app_secret'] = df.iloc[i]['app_secret']\n",
        "\n",
        "  #Lưu vào DataFrame output\n",
        "  output = pd.concat([output,data], axis =0)\n",
        "  print('----------------')\n",
        "  print('')\n",
        "\n",
        "#Ghi vào gg sheet\n",
        "write_sheet = sh.worksheet_by_title('AdAccounts')\n",
        "write_sheet.clear()\n",
        "write_sheet.set_dataframe(output,start = \"A1\",copy_head = True)"
      ]
    }
  ],
  "metadata": {
    "colab": {
      "provenance": []
    },
    "kernelspec": {
      "display_name": "Python 3.9.12 ('base')",
      "language": "python",
      "name": "python3"
    },
    "language_info": {
      "codemirror_mode": {
        "name": "ipython",
        "version": 3
      },
      "file_extension": ".py",
      "mimetype": "text/x-python",
      "name": "python",
      "nbconvert_exporter": "python",
      "pygments_lexer": "ipython3",
      "version": "3.9.12"
    },
    "vscode": {
      "interpreter": {
        "hash": "54af0fbb76c34c23137b05e8c7059515f9e690c51d6d49a2864aef835bf09a11"
      }
    }
  },
  "nbformat": 4,
  "nbformat_minor": 0
}

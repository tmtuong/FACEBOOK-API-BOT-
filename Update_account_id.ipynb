{
  "nbformat": 4,
  "nbformat_minor": 0,
  "metadata": {
    "colab": {
      "provenance": []
    },
    "kernelspec": {
      "name": "python3",
      "display_name": "Python 3"
    },
    "language_info": {
      "name": "python"
    }
  },
  "cells": [
    {
      "cell_type": "code",
      "source": [
        "!pip install pygsheets"
      ],
      "metadata": {
        "colab": {
          "base_uri": "https://localhost:8080/"
        },
        "id": "VWJ4ySHVEpUv",
        "outputId": "9d91ee97-cc6b-4f58-a3e5-74dc57e1f525"
      },
      "execution_count": 17,
      "outputs": [
        {
          "output_type": "stream",
          "name": "stdout",
          "text": [
            "Looking in indexes: https://pypi.org/simple, https://us-python.pkg.dev/colab-wheels/public/simple/\n",
            "Requirement already satisfied: pygsheets in /usr/local/lib/python3.8/dist-packages (2.0.6)\n",
            "Requirement already satisfied: google-auth-oauthlib>=0.7.1 in /usr/local/lib/python3.8/dist-packages (from pygsheets) (0.8.0)\n",
            "Requirement already satisfied: google-api-python-client>=2.50.0 in /usr/local/lib/python3.8/dist-packages (from pygsheets) (2.70.0)\n",
            "Requirement already satisfied: google-auth<3.0.0dev,>=1.19.0 in /usr/local/lib/python3.8/dist-packages (from google-api-python-client>=2.50.0->pygsheets) (2.15.0)\n",
            "Requirement already satisfied: google-auth-httplib2>=0.1.0 in /usr/local/lib/python3.8/dist-packages (from google-api-python-client>=2.50.0->pygsheets) (0.1.0)\n",
            "Requirement already satisfied: uritemplate<5,>=3.0.1 in /usr/local/lib/python3.8/dist-packages (from google-api-python-client>=2.50.0->pygsheets) (4.1.1)\n",
            "Requirement already satisfied: httplib2<1dev,>=0.15.0 in /usr/local/lib/python3.8/dist-packages (from google-api-python-client>=2.50.0->pygsheets) (0.17.4)\n",
            "Requirement already satisfied: google-api-core!=2.0.*,!=2.1.*,!=2.2.*,!=2.3.0,<3.0.0dev,>=1.31.5 in /usr/local/lib/python3.8/dist-packages (from google-api-python-client>=2.50.0->pygsheets) (2.11.0)\n",
            "Requirement already satisfied: requests-oauthlib>=0.7.0 in /usr/local/lib/python3.8/dist-packages (from google-auth-oauthlib>=0.7.1->pygsheets) (1.3.1)\n",
            "Requirement already satisfied: protobuf!=3.20.0,!=3.20.1,!=4.21.0,!=4.21.1,!=4.21.2,!=4.21.3,!=4.21.4,!=4.21.5,<5.0.0dev,>=3.19.5 in /usr/local/lib/python3.8/dist-packages (from google-api-core!=2.0.*,!=2.1.*,!=2.2.*,!=2.3.0,<3.0.0dev,>=1.31.5->google-api-python-client>=2.50.0->pygsheets) (3.19.6)\n",
            "Requirement already satisfied: googleapis-common-protos<2.0dev,>=1.56.2 in /usr/local/lib/python3.8/dist-packages (from google-api-core!=2.0.*,!=2.1.*,!=2.2.*,!=2.3.0,<3.0.0dev,>=1.31.5->google-api-python-client>=2.50.0->pygsheets) (1.57.1)\n",
            "Requirement already satisfied: requests<3.0.0dev,>=2.18.0 in /usr/local/lib/python3.8/dist-packages (from google-api-core!=2.0.*,!=2.1.*,!=2.2.*,!=2.3.0,<3.0.0dev,>=1.31.5->google-api-python-client>=2.50.0->pygsheets) (2.25.1)\n",
            "Requirement already satisfied: pyasn1-modules>=0.2.1 in /usr/local/lib/python3.8/dist-packages (from google-auth<3.0.0dev,>=1.19.0->google-api-python-client>=2.50.0->pygsheets) (0.2.8)\n",
            "Requirement already satisfied: cachetools<6.0,>=2.0.0 in /usr/local/lib/python3.8/dist-packages (from google-auth<3.0.0dev,>=1.19.0->google-api-python-client>=2.50.0->pygsheets) (5.2.0)\n",
            "Requirement already satisfied: six>=1.9.0 in /usr/local/lib/python3.8/dist-packages (from google-auth<3.0.0dev,>=1.19.0->google-api-python-client>=2.50.0->pygsheets) (1.15.0)\n",
            "Requirement already satisfied: rsa<5,>=3.1.4 in /usr/local/lib/python3.8/dist-packages (from google-auth<3.0.0dev,>=1.19.0->google-api-python-client>=2.50.0->pygsheets) (4.9)\n",
            "Requirement already satisfied: oauthlib>=3.0.0 in /usr/local/lib/python3.8/dist-packages (from requests-oauthlib>=0.7.0->google-auth-oauthlib>=0.7.1->pygsheets) (3.2.2)\n",
            "Requirement already satisfied: pyasn1<0.5.0,>=0.4.6 in /usr/local/lib/python3.8/dist-packages (from pyasn1-modules>=0.2.1->google-auth<3.0.0dev,>=1.19.0->google-api-python-client>=2.50.0->pygsheets) (0.4.8)\n",
            "Requirement already satisfied: chardet<5,>=3.0.2 in /usr/local/lib/python3.8/dist-packages (from requests<3.0.0dev,>=2.18.0->google-api-core!=2.0.*,!=2.1.*,!=2.2.*,!=2.3.0,<3.0.0dev,>=1.31.5->google-api-python-client>=2.50.0->pygsheets) (4.0.0)\n",
            "Requirement already satisfied: urllib3<1.27,>=1.21.1 in /usr/local/lib/python3.8/dist-packages (from requests<3.0.0dev,>=2.18.0->google-api-core!=2.0.*,!=2.1.*,!=2.2.*,!=2.3.0,<3.0.0dev,>=1.31.5->google-api-python-client>=2.50.0->pygsheets) (1.24.3)\n",
            "Requirement already satisfied: idna<3,>=2.5 in /usr/local/lib/python3.8/dist-packages (from requests<3.0.0dev,>=2.18.0->google-api-core!=2.0.*,!=2.1.*,!=2.2.*,!=2.3.0,<3.0.0dev,>=1.31.5->google-api-python-client>=2.50.0->pygsheets) (2.10)\n",
            "Requirement already satisfied: certifi>=2017.4.17 in /usr/local/lib/python3.8/dist-packages (from requests<3.0.0dev,>=2.18.0->google-api-core!=2.0.*,!=2.1.*,!=2.2.*,!=2.3.0,<3.0.0dev,>=1.31.5->google-api-python-client>=2.50.0->pygsheets) (2022.12.7)\n"
          ]
        }
      ]
    },
    {
      "cell_type": "code",
      "execution_count": 18,
      "metadata": {
        "id": "Gjcvx6WNC6VU"
      },
      "outputs": [],
      "source": [
        "import requests\n",
        "import pandas as pd\n",
        "import pygsheets"
      ]
    },
    {
      "cell_type": "code",
      "source": [
        "#Mở gg sheet\n",
        "client = pygsheets.authorize(service_file = '/content/refined-grammar-372209-b3fbc4b10ebf.json')\n",
        "\n",
        "sh = client.open('API BOT Tracking')\n",
        "#sh = client.open('MAIDO - DB MAGIC DATA')\n",
        "wks = sh.worksheet_by_title('FB Accounts')\n",
        "\n",
        "#Lấy dữ liệu từ CampaignPeriod và lưu thành DataFrame\n",
        "df = wks.get_as_df()\n",
        "\n",
        "#Loại bỏ những dòng có access_token là null\n",
        "drop_rows = df[df['access_token']==''].index\n",
        "df.drop(drop_rows,axis = 0,inplace = True)"
      ],
      "metadata": {
        "id": "7LHtr1PVEosY"
      },
      "execution_count": 19,
      "outputs": []
    },
    {
      "cell_type": "code",
      "source": [
        "def get_adaccount_id(access_token):\n",
        "  \n",
        "  #Tạo list rỗng để append các giá trị \n",
        "  id_lst = []\n",
        "  name_lst = []\n",
        "  access_token_lst = []\n",
        "\n",
        "  #Gọi query\n",
        "  query = 'https://graph.facebook.com/v15.0/me/?fields=adaccounts{name,id}&access_token={access_token}'\n",
        "  query = query.replace('{access_token}',access_token)\n",
        "  r = requests.get(query).json()\n",
        "  accounts = r['adaccounts']['data']\n",
        "\n",
        "  #Lặp qua các kết quả có được từ query để lưu giá trị\n",
        "  for account in accounts:\n",
        "    id_lst.append(account['id'])\n",
        "    name_lst.append(account['name'])\n",
        "    access_token_lst.append(access_token)\n",
        "\n",
        "    print(\"AdAccount:\",account['name'])\n",
        "\n",
        "  #Lưu lại thành DataFrame và trả về\n",
        "  df = pd.DataFrame({'account_id':id_lst,'account_name':name_lst,'access_token':access_token},columns = ['account_id','account_name','access_token'])\n",
        "  return df"
      ],
      "metadata": {
        "id": "ESoIJwegC8cE"
      },
      "execution_count": 20,
      "outputs": []
    },
    {
      "cell_type": "code",
      "source": [
        "output = pd.DataFrame(columns = ['account_id','account_name','access_token'])\n",
        "\n",
        "for i in range(0,len(df)):\n",
        "  print('FB Accounts:',df.iloc[i]['name'])\n",
        "\n",
        "  #Gọi hàm get_adaccount_id để lấy ra các thông tin adaccount cần cho việc lấy tin FB Ads\n",
        "  access_token = df.iloc[i]['access_token']\n",
        "  data = get_adaccount_id(access_token)\n",
        "  data['app_id'] = df.iloc[i]['app_id']\n",
        "  data['app_secret'] = df.iloc[i]['app_secret']\n",
        "\n",
        "  #Lưu vào DataFrame output\n",
        "  output = pd.concat([output,data], axis =0)\n",
        "  print('----------------')\n",
        "  print('')\n",
        "\n",
        "#Ghi vào gg sheet\n",
        "write_sheet = sh.worksheet_by_title('AdAccounts')\n",
        "write_sheet.clear()\n",
        "write_sheet.set_dataframe(output,start = \"A1\",copy_head = True)"
      ],
      "metadata": {
        "colab": {
          "base_uri": "https://localhost:8080/"
        },
        "id": "ELWlpmz-EzfE",
        "outputId": "ee330530-4c89-481f-d3b2-8498e150ced8"
      },
      "execution_count": 22,
      "outputs": [
        {
          "output_type": "stream",
          "name": "stdout",
          "text": [
            "FB Accounts: HT\n",
            "AdAccount: Maido Agency Co., LTD\n",
            "AdAccount: Trang Ho\n",
            "AdAccount: Công Ty TNHH XNK Á Âu\n",
            "----------------\n",
            "\n",
            "FB Accounts: KN\n",
            "AdAccount: Maido Agency\n",
            "AdAccount: The Ruong\n",
            "AdAccount: Khoi Nguyen\n",
            "----------------\n",
            "\n",
            "FB Accounts: TN\n",
            "AdAccount: Tan Nguyen\n",
            "AdAccount: Công Ty TNHH Quảng Cáo Maido\n",
            "----------------\n",
            "\n"
          ]
        }
      ]
    }
  ]
}
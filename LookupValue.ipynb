{
 "cells": [
  {
   "cell_type": "code",
   "execution_count": 17,
   "metadata": {},
   "outputs": [],
   "source": [
    "def get_service_code(df):\n",
    "    service_code_lst = []\n",
    "    for i in df['campaign_name']:\n",
    "        if i.find('|') == -1:\n",
    "            try:\n",
    "                extract = i.split(' - ')\n",
    "\n",
    "                service_code_lst.append(extract[1])\n",
    "            except:\n",
    "                service_code_lst.append('')\n",
    "        else:\n",
    "            extract = i.split(' | ')\n",
    "            service_code_lst.append(extract[1])\n",
    "    return service_code_lst"
   ]
  },
  {
   "cell_type": "code",
   "execution_count": 18,
   "metadata": {},
   "outputs": [],
   "source": [
    "def get_month(df):\n",
    "    month_lst = []\n",
    "    for i in df['date']:\n",
    "        month_lst.append(str(i).split('-')[1])\n",
    "    return month_lst"
   ]
  },
  {
   "cell_type": "code",
   "execution_count": 19,
   "metadata": {},
   "outputs": [],
   "source": [
    "def get_from_settings(df):\n",
    "    client = pygsheets.authorize(service_file = r'C:\\Users\\Tường\\Documents\\FACEBOOK-API-BOT--main\\maido-agency-e7cc6f08cb95.json')\n",
    "\n",
    "    sh = client.open('MAIDO - DB MAGIC DATA')\n",
    "    wks = sh.worksheet_by_title('3. Ads Settings')\n",
    "\n",
    "    setting_df = wks.get_as_df()\n",
    "    \n",
    "    join_df = df.merge(setting_df, how = 'left', left_on = ['service_code'], right_on = ['service_code'])\n",
    "    cost_ex_lst = []\n",
    "    for cost,percentage in zip(join_df['cost'], join_df['internal_budget_percent']):\n",
    "        if percentage == '' and cost =='':\n",
    "            cost_ex_lst.append('')\n",
    "        else:\n",
    "            try:\n",
    "                cost_ex_lst.append(float(cost)/float(percentage))\n",
    "            except ZeroDivisionError:\n",
    "                cost_ex_lst.append(float(cost))\n",
    "    join_df['cost_external'] = cost_ex_lst\n",
    "\n",
    "    join_df.drop_duplicates(inplace = True)\n",
    "    \n",
    "    return join_df"
   ]
  },
  {
   "cell_type": "code",
   "execution_count": 20,
   "metadata": {},
   "outputs": [],
   "source": [
    "def get_result(df):\n",
    "    result_lst = []\n",
    "    for i in df['campaign_name']:\n",
    "        if i.find('|') != -1:\n",
    "            extract = i.split(' | ')[3]\n",
    "            if 'Mess' in extract:\n",
    "                result_lst.append('Mess')\n",
    "            elif 'Engage' in extract:\n",
    "                result_lst.append('Engage')\n",
    "            elif 'Page Like' in extract:\n",
    "                result_lst.append('Page Like')\n",
    "            else:\n",
    "                result_lst.append(extract)\n",
    "        \n",
    "        else:\n",
    "            extract = i.split(' - ')\n",
    "            if len(extract) == 4:\n",
    "                sub_result = extract[3]\n",
    "            elif len(extract) == 5:\n",
    "                if extract[-1] not in ['P1','P2','P3','FOW', 'FOW 1', 'Heart','daily','2tr5','3tr5','3tr750']:\n",
    "                    sub_result = extract[4]\n",
    "                else:\n",
    "                    sub_result = extract[3]\n",
    "            \n",
    "            if 'Mess' in sub_result:\n",
    "                result_lst.append('Mess')\n",
    "            elif 'Engage' in sub_result:\n",
    "                result_lst.append('Engage')\n",
    "            elif 'Page Like' in sub_result:\n",
    "                result_lst.append('Page Like')\n",
    "            else:\n",
    "                result_lst.append(sub_result)\n",
    "    \n",
    "    return result_lst\n"
   ]
  },
  {
   "cell_type": "code",
   "execution_count": 21,
   "metadata": {},
   "outputs": [],
   "source": [
    "def get_page_data(df):\n",
    "    client = pygsheets.authorize(service_file = r'C:\\Users\\Tường\\Documents\\FACEBOOK-API-BOT--main\\maido-agency-e7cc6f08cb95.json')\n",
    "\n",
    "    sh = client.open('MAIDO - DB MAGIC DATA')\n",
    "    wks = sh.worksheet_by_title('2. Data Raw - FB Page')\n",
    "\n",
    "    page_df = wks.get_as_df()\n",
    "\n",
    "    df['date'] = [str(i).split(' ')[0] for i in df['date']]\n",
    "    df['join_date'] = [date_+' '+page_name for date_, page_name in zip(df['date'],df['page_name'])]\n",
    "    page_df['index'] = [1]*len(page_df)\n",
    "\n",
    "    index = []\n",
    "    counts = {}\n",
    "    for i in df['join_date']:\n",
    "        try:\n",
    "            counts[i] = counts[i] + 1\n",
    "            index.append(counts[i])\n",
    "        except KeyError:\n",
    "            counts[i] = 1\n",
    "            index.append(1)\n",
    "\n",
    "    df.drop('join_date', inplace = True,axis =1)\n",
    "    df['index'] = index\n",
    "\n",
    "\n",
    "    join_df = df.merge(page_df, how = 'left', left_on = ['date','page_name','index'], right_on = ['date','page_name','index'])\n",
    "\n",
    "    join_df.drop_duplicates(inplace = True)\n",
    "\n",
    "\n",
    "    return join_df"
   ]
  }
 ],
 "metadata": {
  "kernelspec": {
   "display_name": "Python 3.9.12 ('base')",
   "language": "python",
   "name": "python3"
  },
  "language_info": {
   "codemirror_mode": {
    "name": "ipython",
    "version": 3
   },
   "file_extension": ".py",
   "mimetype": "text/x-python",
   "name": "python",
   "nbconvert_exporter": "python",
   "pygments_lexer": "ipython3",
   "version": "3.9.12"
  },
  "orig_nbformat": 4,
  "vscode": {
   "interpreter": {
    "hash": "54af0fbb76c34c23137b05e8c7059515f9e690c51d6d49a2864aef835bf09a11"
   }
  }
 },
 "nbformat": 4,
 "nbformat_minor": 2
}
